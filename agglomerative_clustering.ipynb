{
 "cells": [
  {
   "cell_type": "code",
   "execution_count": 33,
   "metadata": {
    "collapsed": true
   },
   "outputs": [],
   "source": [
    "import csv,sys\n",
    "import math,random\n",
    "import subprocess\n",
    "import numpy as np\n",
    "import pandas as pd\n",
    "from math import sqrt"
   ]
  },
  {
   "cell_type": "code",
   "execution_count": 34,
   "metadata": {
    "collapsed": false
   },
   "outputs": [],
   "source": [
    "class Point:\n",
    "    \n",
    "    def __init__(self,coords,label):\n",
    "        self.coords = coords\n",
    "        self.label = label\n",
    "        self.n = len(coords)\n",
    "    \n",
    "    def __repr__(self):\n",
    "        return str(self.coords)"
   ]
  },
  {
   "cell_type": "code",
   "execution_count": 35,
   "metadata": {
    "collapsed": true
   },
   "outputs": [],
   "source": [
    "class cluster_node:\n",
    "    \n",
    "    def __init__(self,points,left = None,right = None,distance = 0.0,Id = None,count =1):\n",
    "        self.points = points\n",
    "        self.left=left\n",
    "        self.right=right\n",
    "        self.distance = distance\n",
    "        self.Id = Id\n",
    "        self.count = count\n",
    "    \n",
    "    def __repr(self):\n",
    "        return str(self.points)"
   ]
  },
  {
   "cell_type": "code",
   "execution_count": 36,
   "metadata": {
    "collapsed": true
   },
   "outputs": [],
   "source": [
    "def getDistance(a, b):\n",
    "\n",
    "#Euclidean distance between two n-dimensional points.\n",
    "#Note: This can be very slow and does not scale well\n",
    "    #if a.n != b.n:\n",
    "    #    raise Exception(\"ILLEGAL: non comparable points\")\n",
    "    #print type(a)\n",
    "    ret = reduce(lambda x,y: x + pow((a[y]-b[y]), 2),range(len(a)),0.0)\n",
    "    return math.sqrt(ret)\n",
    "    #return sqrt(sum((a-b)**2))"
   ]
  },
  {
   "cell_type": "code",
   "execution_count": 37,
   "metadata": {
    "collapsed": true
   },
   "outputs": [],
   "source": [
    "#calculate minimum distance between two clusters\n",
    "def get_min_distance(a,b,points,cutoff):\n",
    "    cluster_id1 = get_cluster_elements(a)\n",
    "    cluster_id2 = get_cluster_elements(b)\n",
    "    min_distance = 1e+10\n",
    "    for i in range(len(cluster_id1)):\n",
    "        for j in range(len(cluster_id2)):\n",
    "            distance = getDistance(points[i],points[j])\n",
    "            if distance < min_distance:\n",
    "                min_distance = distance\n",
    "    return min_distance"
   ]
  },
  {
   "cell_type": "code",
   "execution_count": 38,
   "metadata": {
    "collapsed": true
   },
   "outputs": [],
   "source": [
    "def agglomerative_clustering_mean(points,k):\n",
    "    distances={}\n",
    "    currentclustid=-1\n",
    "    cluster = [cluster_node(points[i],Id=i) for i in range(len(points))]\n",
    "    #print len(cluster)\n",
    "    while len(cluster) > k:\n",
    "        lowestpair = (0,1)\n",
    "        closest = getDistance(cluster[0].points,cluster[1].points)\n",
    "        for i in range(len(cluster)):\n",
    "            for j in range(i+1,len(cluster)):\n",
    "                # distances is the cache of distance calculations\n",
    "                if (cluster[i].Id,cluster[j].Id) not in distances: \n",
    "                    #print type(cluster[i].points.coords)\n",
    "                    distances[(cluster[i].Id,cluster[j].Id)] = getDistance(cluster[i].points,cluster[j].points)\n",
    "\n",
    "                d = distances[(cluster[i].Id,cluster[j].Id)]\n",
    "\n",
    "                if d < closest:\n",
    "                    closest=d\n",
    "                    lowestpair=(i,j)\n",
    "\n",
    "        # calculate the average of the two clusters\n",
    "        mergeclust = [(cluster[lowestpair[0]].points[i]+cluster[lowestpair[1]].points[i])/2.0 \n",
    "            for i in range(len((cluster[0].points)))]\n",
    "\n",
    "        # create the new cluster\n",
    "        newcluster = cluster_node(mergeclust,left = cluster[lowestpair[0]],\n",
    "                             right=cluster[lowestpair[1]],\n",
    "                             distance = closest,Id=currentclustid)\n",
    "\n",
    "        # cluster ids that weren't in the original set are negative\n",
    "        currentclustid-=1\n",
    "        del cluster[lowestpair[1]]\n",
    "        del cluster[lowestpair[0]]\n",
    "        cluster.append(newcluster)\n",
    "    return cluster"
   ]
  },
  {
   "cell_type": "code",
   "execution_count": 39,
   "metadata": {
    "collapsed": true
   },
   "outputs": [],
   "source": [
    "def agglomerative_clustering_single_link(points,k,cutoff):\n",
    "    distances={}\n",
    "    currentclustid=-1\n",
    "    cluster = [cluster_node(points[i],Id=i) for i in range(len(points))]\n",
    "    #print len(cluster)\n",
    "    while len(cluster) > k:\n",
    "        lowestpair = (0,1)\n",
    "        closest = getDistance(cluster[0].points,cluster[1].points)\n",
    "        min_distance = 1e+10\n",
    "        for i in range(len(cluster)):\n",
    "            for j in range(i+1,len(cluster)):\n",
    "                if get_min_distance(cluster[i],cluster[j],points,cutoff) < min_distance:\n",
    "                    min_distance = get_min_distance(cluster[i],cluster[j],points,cutoff)\n",
    "                    lowestpair = (i,j)\n",
    "        if min_distance < cutoff:\n",
    "            mergeclust = [(cluster[lowestpair[0]].points[i]+cluster[lowestpair[1]].points[i])/2.0 \n",
    "            for i in range(len((cluster[0].points)))]\n",
    "\n",
    "        # create the new cluster\n",
    "        newcluster = cluster_node(mergeclust,left = cluster[lowestpair[0]],\n",
    "                             right=cluster[lowestpair[1]],\n",
    "                             distance = closest,Id=currentclustid)\n",
    "\n",
    "        # cluster ids that weren't in the original set are negative\n",
    "        currentclustid-=1\n",
    "        del cluster[lowestpair[1]]\n",
    "        del cluster[lowestpair[0]]\n",
    "        cluster.append(newcluster)\n",
    "    return cluster"
   ]
  },
  {
   "cell_type": "code",
   "execution_count": 40,
   "metadata": {
    "collapsed": true
   },
   "outputs": [],
   "source": [
    "def main():\n",
    "    data = pd.read_csv(\"arcene_train.data\",delimiter = ' ')\n",
    "    data = np.array(data)\n",
    "    #np.any(np.isnan(data))\n",
    "    data = list(data)\n",
    "    #print data[0]\n",
    "    temp = []\n",
    "    for row in data:\n",
    "        temp.append([int(elements) for elements in row[:10000]])\n",
    "    data = temp\n",
    "    labels = pd.read_csv(\"arcene_train.labels\", delimiter = ' ')\n",
    "    labels = np.array(labels)\n",
    "    labels = list(labels)\n",
    "    temp = []\n",
    "    for row in labels:\n",
    "        temp.append(int(row))\n",
    "    labels = temp\n",
    "    #points = []\n",
    "    #for i in range(len(data)):\n",
    "        #points.append(Point(data[i],labels[i]))\n",
    "    num_clusters = 2\n",
    "    opt_cutoff = 0.5\n",
    "    flag = 2\n",
    "    if flag == 1: \n",
    "        clusters = agglomerative_clustering_mean(data,num_clusters)\n",
    "    else:\n",
    "        clusters = agglomerative_clustering_single_link(data,num_clusters,opt_cutoff)\n",
    "    print len(clusters)\n",
    "    count_class = dict()\n",
    "    accuracy = 0.0\n",
    "    for i in range(num_clusters):\n",
    "        cluster_id = get_cluster_elements(clusters[i])\n",
    "        for j in range(len(cluster_id)):\n",
    "            if labels[cluster_id[j]] in count_class.keys():\n",
    "                count_class[labels[cluster_id[j]]]+=1\n",
    "            else:\n",
    "                count_class[labels[cluster_id[j]]]=1\n",
    "        max_count = 0\n",
    "        for key in count_class:\n",
    "            if count_class[key] > max_count:\n",
    "                max_count = count_class[key]\n",
    "        accuracy += max_count\n",
    "        count_class.clear()\n",
    "    accuracy = accuracy/len(data)\n",
    "    print accuracy"
   ]
  },
  {
   "cell_type": "code",
   "execution_count": 41,
   "metadata": {
    "collapsed": true
   },
   "outputs": [],
   "source": [
    "def get_cluster_elements(clust):\n",
    "    # return ids for elements in a cluster sub-tree\n",
    "    if clust.Id>0:\n",
    "        # positive id means that this is a leaf\n",
    "        return [clust.Id]\n",
    "    else:\n",
    "        # check the right and left branches\n",
    "        cl = []\n",
    "        cr = []\n",
    "        if clust.left!=None: \n",
    "            cl = get_cluster_elements(clust.left)\n",
    "        if clust.right!=None: \n",
    "            cr = get_cluster_elements(clust.right)\n",
    "        return cl+cr"
   ]
  },
  {
   "cell_type": "code",
   "execution_count": 42,
   "metadata": {
    "collapsed": false
   },
   "outputs": [
    {
     "name": "stdout",
     "output_type": "stream",
     "text": [
      "2\n",
      "0.555555555556\n"
     ]
    }
   ],
   "source": [
    "main()"
   ]
  }
 ],
 "metadata": {
  "kernelspec": {
   "display_name": "Python 2",
   "language": "python",
   "name": "python2"
  },
  "language_info": {
   "codemirror_mode": {
    "name": "ipython",
    "version": 2
   },
   "file_extension": ".py",
   "mimetype": "text/x-python",
   "name": "python",
   "nbconvert_exporter": "python",
   "pygments_lexer": "ipython2",
   "version": "2.7.9"
  }
 },
 "nbformat": 4,
 "nbformat_minor": 1
}
